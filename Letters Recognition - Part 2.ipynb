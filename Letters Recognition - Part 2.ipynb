{
 "cells": [
  {
   "cell_type": "markdown",
   "metadata": {},
   "source": [
    "# Letters Recognition - Part 2"
   ]
  },
  {
   "cell_type": "code",
   "execution_count": 1,
   "metadata": {
    "collapsed": true
   },
   "outputs": [],
   "source": [
    "from __future__ import print_function\n",
    "import numpy as np\n",
    "import tensorflow as tf\n",
    "from six.moves import cPickle as pickle\n",
    "from six.moves import range"
   ]
  },
  {
   "cell_type": "markdown",
   "metadata": {},
   "source": [
    "In the Part 1 we created a pickle with formatted datasets for training, development and testing on the notMNIST dataset."
   ]
  },
  {
   "cell_type": "code",
   "execution_count": 2,
   "metadata": {
    "collapsed": false
   },
   "outputs": [
    {
     "name": "stdout",
     "output_type": "stream",
     "text": [
      "Training set (200000, 28, 28) (200000,)\n",
      "Validation set (10000, 28, 28) (10000,)\n",
      "Test set (10000, 28, 28) (10000,)\n"
     ]
    }
   ],
   "source": [
    "pickle_file = 'notMNIST.pickle'\n",
    "\n",
    "#to reload the data\n",
    "with open(pickle_file, 'rb') as f:\n",
    "  save = pickle.load(f)\n",
    "  train_dataset = save['train_dataset']\n",
    "  train_labels = save['train_labels']\n",
    "  valid_dataset = save['valid_dataset']\n",
    "  valid_labels = save['valid_labels']\n",
    "  test_dataset = save['test_dataset']\n",
    "  test_labels = save['test_labels']\n",
    "  del save  # hint to help gc free up memory\n",
    "  print('Training set', train_dataset.shape, train_labels.shape)\n",
    "  print('Validation set', valid_dataset.shape, valid_labels.shape)\n",
    "  print('Test set', test_dataset.shape, test_labels.shape)"
   ]
  },
  {
   "cell_type": "markdown",
   "metadata": {},
   "source": [
    "Reformat into a shape that's more adapted to the models we're going to train: data as a flat matrix,\n",
    "labels as float 1-hot encodings."
   ]
  },
  {
   "cell_type": "code",
   "execution_count": 3,
   "metadata": {
    "collapsed": false
   },
   "outputs": [
    {
     "name": "stdout",
     "output_type": "stream",
     "text": [
      "Training set (200000, 784) (200000, 10)\n",
      "Validation set (10000, 784) (10000, 10)\n",
      "Test set (10000, 784) (10000, 10)\n"
     ]
    }
   ],
   "source": [
    "image_size = 28 # we have 28 by 28 pictures\n",
    "num_labels = 10 # we have 10 different letters\n",
    "\n",
    "def reformat(dataset, labels):\n",
    "  dataset = dataset.reshape((-1, image_size * image_size)).astype(np.float32)\n",
    "  # Map 0 to [1.0, 0.0, 0.0 ...], 1 to [0.0, 1.0, 0.0 ...]\n",
    "  labels = (np.arange(num_labels) == labels[:,None]).astype(np.float32)\n",
    "  return dataset, labels\n",
    "\n",
    "train_dataset, train_labels = reformat(train_dataset, train_labels)\n",
    "valid_dataset, valid_labels = reformat(valid_dataset, valid_labels)\n",
    "test_dataset, test_labels = reformat(test_dataset, test_labels)\n",
    "\n",
    "print('Training set', train_dataset.shape, train_labels.shape)\n",
    "print('Validation set', valid_dataset.shape, valid_labels.shape)\n",
    "print('Test set', test_dataset.shape, test_labels.shape)"
   ]
  },
  {
   "cell_type": "markdown",
   "metadata": {},
   "source": [
    "We start with gradient descent training. We will use only a \n",
    "subset the training data for faster turnaround."
   ]
  },
  {
   "cell_type": "code",
   "execution_count": 4,
   "metadata": {
    "collapsed": true
   },
   "outputs": [],
   "source": [
    "train_subset = 10000\n",
    "\n",
    "graph = tf.Graph()\n",
    "with graph.as_default():\n",
    "\n",
    "  # Input data.\n",
    "  # Load the training, validation and test data into constants that are\n",
    "  # attached to the graph.\n",
    "  tf_train_dataset = tf.constant(train_dataset[:train_subset, :])\n",
    "  tf_train_labels = tf.constant(train_labels[:train_subset])\n",
    "  tf_valid_dataset = tf.constant(valid_dataset)\n",
    "  tf_test_dataset = tf.constant(test_dataset)\n",
    "  \n",
    "  # Variables.\n",
    "  # These are the parameters that we are going to be training. The weight\n",
    "  # matrix will be initialized using random values following a (truncated)\n",
    "  # normal distribution. The biases get initialized to zero.\n",
    "  weights = tf.Variable(\n",
    "    tf.truncated_normal([image_size * image_size, num_labels]))\n",
    "  biases = tf.Variable(tf.zeros([num_labels]))\n",
    "  \n",
    "  # Training computation.\n",
    "  # We multiply the inputs with the weight matrix, and add biases. We compute\n",
    "  # the softmax and cross-entropy (it's one operation in TensorFlow, because\n",
    "  # it's very common, and it can be optimized). We take the average of this\n",
    "  # cross-entropy across all training examples: that's our loss.\n",
    "  logits = tf.matmul(tf_train_dataset, weights) + biases\n",
    "  loss = tf.reduce_mean(\n",
    "    tf.nn.softmax_cross_entropy_with_logits(labels=tf_train_labels, logits=logits))\n",
    "  \n",
    "  # Optimizer.\n",
    "  # We are going to find the minimum of this loss using gradient descent.\n",
    "  optimizer = tf.train.GradientDescentOptimizer(0.5).minimize(loss)\n",
    "  \n",
    "  # Predictions for the training, validation, and test data.\n",
    "  # These are not part of training, but merely here so that we can report\n",
    "  # accuracy figures as we train.\n",
    "  train_prediction = tf.nn.softmax(logits)\n",
    "  valid_prediction = tf.nn.softmax(\n",
    "    tf.matmul(tf_valid_dataset, weights) + biases)\n",
    "  test_prediction = tf.nn.softmax(tf.matmul(tf_test_dataset, weights) + biases)"
   ]
  },
  {
   "cell_type": "code",
   "execution_count": 5,
   "metadata": {
    "collapsed": false
   },
   "outputs": [
    {
     "name": "stdout",
     "output_type": "stream",
     "text": [
      "Initialized\n",
      "Loss at step 0: 15.811075\n",
      "Training accuracy: 10.6%\n",
      "Validation accuracy: 13.9%\n",
      "Loss at step 100: 2.245941\n",
      "Training accuracy: 72.5%\n",
      "Validation accuracy: 70.8%\n",
      "Loss at step 200: 1.792173\n",
      "Training accuracy: 75.5%\n",
      "Validation accuracy: 72.8%\n",
      "Loss at step 300: 1.554715\n",
      "Training accuracy: 76.6%\n",
      "Validation accuracy: 73.5%\n",
      "Loss at step 400: 1.396363\n",
      "Training accuracy: 77.7%\n",
      "Validation accuracy: 73.9%\n",
      "Loss at step 500: 1.279856\n",
      "Training accuracy: 78.4%\n",
      "Validation accuracy: 73.9%\n",
      "Loss at step 600: 1.188971\n",
      "Training accuracy: 78.9%\n",
      "Validation accuracy: 74.1%\n",
      "Loss at step 700: 1.115077\n",
      "Training accuracy: 79.2%\n",
      "Validation accuracy: 74.2%\n",
      "Loss at step 800: 1.053303\n",
      "Training accuracy: 79.7%\n",
      "Validation accuracy: 74.5%\n",
      "Test accuracy: 82.5%\n"
     ]
    }
   ],
   "source": [
    "num_steps = 801\n",
    "\n",
    "def accuracy(predictions, labels):\n",
    "  return (100.0 * np.sum(np.argmax(predictions, 1) == np.argmax(labels, 1))\n",
    "          / predictions.shape[0])\n",
    "\n",
    "with tf.Session(graph=graph) as session:\n",
    "  # This is a one-time operation which ensures the parameters get initialized as\n",
    "  # we described in the graph: random weights for the matrix, zeros for the\n",
    "  # biases. \n",
    "  tf.initialize_all_variables().run()\n",
    "  print('Initialized')\n",
    "  for step in range(num_steps):\n",
    "    # Run the computations. We tell .run() that we want to run the optimizer,\n",
    "    # and get the loss value and the training predictions returned as numpy\n",
    "    # arrays.\n",
    "    _, l, predictions = session.run([optimizer, loss, train_prediction])\n",
    "    if (step % 100 == 0):\n",
    "      print('Loss at step %d: %f' % (step, l))\n",
    "      print('Training accuracy: %.1f%%' % accuracy(\n",
    "        predictions, train_labels[:train_subset, :]))\n",
    "      # Calling .eval() on valid_prediction is basically like calling run(), but\n",
    "      # just to get that one numpy array. Note that it recomputes all its graph\n",
    "      # dependencies.\n",
    "      print('Validation accuracy: %.1f%%' % accuracy(\n",
    "        valid_prediction.eval(), valid_labels))\n",
    "  print('Test accuracy: %.1f%%' % accuracy(test_prediction.eval(), test_labels))"
   ]
  },
  {
   "cell_type": "markdown",
   "metadata": {},
   "source": [
    "Now we will try stochastic gradient descent training instead, which is much faster.\n",
    "The graph will be similar, except that instead of holding all the training data into a constant node, we create a Placeholder node which will be fed actual data at every call of session.run()."
   ]
  },
  {
   "cell_type": "code",
   "execution_count": 6,
   "metadata": {
    "collapsed": true
   },
   "outputs": [],
   "source": [
    "batch_size = 128\n",
    "\n",
    "graph = tf.Graph()\n",
    "with graph.as_default():\n",
    "\n",
    "  # Input data. For the training data, we use a placeholder that will be fed\n",
    "  # at run time with a training minibatch.\n",
    "  tf_train_dataset = tf.placeholder(tf.float32,\n",
    "                                    shape=(batch_size, image_size * image_size))\n",
    "  tf_train_labels = tf.placeholder(tf.float32, shape=(batch_size, num_labels))\n",
    "  tf_valid_dataset = tf.constant(valid_dataset)\n",
    "  tf_test_dataset = tf.constant(test_dataset)\n",
    "  \n",
    "  # Variables.\n",
    "  weights = tf.Variable(\n",
    "    tf.truncated_normal([image_size * image_size, num_labels]))\n",
    "  biases = tf.Variable(tf.zeros([num_labels]))\n",
    "  \n",
    "  # Training computation.\n",
    "  logits = tf.matmul(tf_train_dataset, weights) + biases\n",
    "  loss = tf.reduce_mean(\n",
    "    tf.nn.softmax_cross_entropy_with_logits(labels=tf_train_labels, logits=logits))\n",
    "  \n",
    "  # Optimizer.\n",
    "  optimizer = tf.train.GradientDescentOptimizer(0.5).minimize(loss)\n",
    "  \n",
    "  # Predictions for the training, validation, and test data.\n",
    "  train_prediction = tf.nn.softmax(logits)\n",
    "  valid_prediction = tf.nn.softmax(\n",
    "    tf.matmul(tf_valid_dataset, weights) + biases)\n",
    "  test_prediction = tf.nn.softmax(tf.matmul(tf_test_dataset, weights) + biases)"
   ]
  },
  {
   "cell_type": "code",
   "execution_count": 7,
   "metadata": {
    "collapsed": false
   },
   "outputs": [
    {
     "name": "stdout",
     "output_type": "stream",
     "text": [
      "Initialized\n",
      "Minibatch loss at step 0: 15.698720\n",
      "Minibatch accuracy: 10.2%\n",
      "Validation accuracy: 10.5%\n",
      "Minibatch loss at step 500: 1.108249\n",
      "Minibatch accuracy: 78.9%\n",
      "Validation accuracy: 74.9%\n",
      "Minibatch loss at step 1000: 1.416429\n",
      "Minibatch accuracy: 78.1%\n",
      "Validation accuracy: 75.8%\n",
      "Minibatch loss at step 1500: 0.872192\n",
      "Minibatch accuracy: 75.8%\n",
      "Validation accuracy: 76.8%\n",
      "Minibatch loss at step 2000: 0.951792\n",
      "Minibatch accuracy: 83.6%\n",
      "Validation accuracy: 76.8%\n",
      "Minibatch loss at step 2500: 0.877005\n",
      "Minibatch accuracy: 76.6%\n",
      "Validation accuracy: 77.8%\n",
      "Minibatch loss at step 3000: 0.967088\n",
      "Minibatch accuracy: 78.1%\n",
      "Validation accuracy: 77.8%\n",
      "Test accuracy: 86.2%\n"
     ]
    }
   ],
   "source": [
    "num_steps = 3001\n",
    "\n",
    "with tf.Session(graph=graph) as session:\n",
    "  tf.initialize_all_variables().run()\n",
    "  print(\"Initialized\")\n",
    "  for step in range(num_steps):\n",
    "    # Pick an offset within the training data, which has been randomized.\n",
    "    # Note: we could use better randomization across epochs.\n",
    "    offset = (step * batch_size) % (train_labels.shape[0] - batch_size)\n",
    "    # Generate a minibatch.\n",
    "    batch_data = train_dataset[offset:(offset + batch_size), :]\n",
    "    batch_labels = train_labels[offset:(offset + batch_size), :]\n",
    "    # Prepare a dictionary telling the session where to feed the minibatch.\n",
    "    # The key of the dictionary is the placeholder node of the graph to be fed,\n",
    "    # and the value is the numpy array to feed to it.\n",
    "    feed_dict = {tf_train_dataset : batch_data, tf_train_labels : batch_labels}\n",
    "    _, l, predictions = session.run(\n",
    "      [optimizer, loss, train_prediction], feed_dict=feed_dict)\n",
    "    if (step % 500 == 0):\n",
    "      print(\"Minibatch loss at step %d: %f\" % (step, l))\n",
    "      print(\"Minibatch accuracy: %.1f%%\" % accuracy(predictions, batch_labels))\n",
    "      print(\"Validation accuracy: %.1f%%\" % accuracy(\n",
    "        valid_prediction.eval(), valid_labels))\n",
    "  print(\"Test accuracy: %.1f%%\" % accuracy(test_prediction.eval(), test_labels))"
   ]
  },
  {
   "cell_type": "markdown",
   "metadata": {},
   "source": [
    "We got a better accuracy :)"
   ]
  },
  {
   "cell_type": "markdown",
   "metadata": {},
   "source": [
    "Now I am going to turn the logistic regression example with SGD into a 1-hidden layer neural network with rectified linear units nn.relu(). This model should improve test accuracy."
   ]
  },
  {
   "cell_type": "code",
   "execution_count": 8,
   "metadata": {
    "collapsed": true
   },
   "outputs": [],
   "source": [
    "batch_size = 128\n",
    "\n",
    "graph = tf.Graph()\n",
    "with graph.as_default():\n",
    "\t# Input data. For the training data, we use a placeholder that will be fed\n",
    "\t# at run time with a training minibatch.\n",
    "\ttf_train_dataset = tf.placeholder(tf.float32,\n",
    "\t\t\t\t\t\t\t\t\t\tshape=(batch_size, image_size * image_size))\n",
    "\ttf_train_labels = tf.placeholder(tf.float32, shape=(batch_size, num_labels))\n",
    "\ttf_valid_dataset = tf.constant(valid_dataset)\n",
    "\ttf_test_dataset = tf.constant(test_dataset)\n",
    "\n",
    "\t# Variables.\n",
    "\tnum_hidden_nodes = 1554\n",
    "\tweights1 = tf.Variable(\n",
    "\t\ttf.truncated_normal([image_size * image_size, num_hidden_nodes]))\n",
    "\tweights2 = tf.Variable(\n",
    "\t\ttf.truncated_normal([num_hidden_nodes, num_labels]))\n",
    "\tbiases1 = tf.Variable(tf.zeros([num_hidden_nodes]))\n",
    "\tbiases2 = tf.Variable(tf.zeros([num_labels]))\n",
    "\n",
    "\t# Training computation.\n",
    "\tlayer_1 = tf.nn.relu(tf.matmul(tf_train_dataset,weights1)+biases1)\n",
    "\tlogits = tf.matmul(layer_1, weights2) + biases2\n",
    "\tloss = tf.reduce_mean(\n",
    "\t\ttf.nn.softmax_cross_entropy_with_logits(logits, tf_train_labels))\n",
    "\n",
    "\t# Optimizer.\n",
    "\toptimizer = tf.train.GradientDescentOptimizer(0.5).minimize(loss)\n",
    "\n",
    "\t# Predictions for the training, validation, and test data.\n",
    "\ttrain_prediction = tf.nn.softmax(logits)\n",
    "\tvalid_prediction = tf.nn.softmax(\n",
    "\t\ttf.matmul(tf.nn.relu(tf.matmul(tf_valid_dataset, weights1)+biases1),weights2) + biases2)\n",
    "\ttest_prediction = tf.nn.softmax(\n",
    "\t\ttf.matmul(tf.nn.relu(tf.matmul(tf_test_dataset, weights1)+biases1),weights2) + biases2)\n"
   ]
  },
  {
   "cell_type": "code",
   "execution_count": 9,
   "metadata": {
    "collapsed": false
   },
   "outputs": [
    {
     "name": "stdout",
     "output_type": "stream",
     "text": [
      "Two layers netowrk, Initialized\n",
      "Minibatch loss at step 0: 428.107574\n",
      "Minibatch accuracy: 8.6%\n",
      "Validation accuracy: 26.8%\n",
      "Minibatch loss at step 500: 29.696074\n",
      "Minibatch accuracy: 77.3%\n",
      "Validation accuracy: 77.6%\n",
      "Minibatch loss at step 1000: 16.196051\n",
      "Minibatch accuracy: 78.1%\n",
      "Validation accuracy: 81.9%\n",
      "Minibatch loss at step 1500: 7.194921\n",
      "Minibatch accuracy: 88.3%\n",
      "Validation accuracy: 81.8%\n",
      "Minibatch loss at step 2000: 7.381135\n",
      "Minibatch accuracy: 84.4%\n",
      "Validation accuracy: 82.2%\n",
      "Minibatch loss at step 2500: 4.869624\n",
      "Minibatch accuracy: 87.5%\n",
      "Validation accuracy: 82.9%\n",
      "Minibatch loss at step 3000: 3.532003\n",
      "Minibatch accuracy: 82.0%\n",
      "Validation accuracy: 82.8%\n",
      "Test accuracy: 89.8%\n"
     ]
    }
   ],
   "source": [
    "num_steps = 3001\n",
    "\n",
    "with tf.Session(graph=graph) as session:\n",
    "\ttf.initialize_all_variables().run()\n",
    "\tprint(\"Two layers netowrk, Initialized\")\n",
    "\tfor step in range(num_steps):\n",
    "\t\toffset = (step * batch_size) % (train_labels.shape[0] - batch_size)\n",
    "\t\tbatch_data = train_dataset[offset:(offset + batch_size), :]\n",
    "\t\tbatch_labels = train_labels[offset:(offset + batch_size), :]\n",
    "\t\tfeed_dict = {tf_train_dataset : batch_data, tf_train_labels : batch_labels}\n",
    "\t\t_, l, predictions = session.run(\n",
    "\t\t\t[optimizer, loss, train_prediction], feed_dict=feed_dict)\n",
    "\t\tif (step % 500 == 0):\n",
    "\t\t\tprint(\"Minibatch loss at step %d: %f\" % (step, l))\n",
    "\t\t\tprint(\"Minibatch accuracy: %.1f%%\" % accuracy(predictions, batch_labels))\n",
    "\t\t\tprint(\"Validation accuracy: %.1f%%\" % accuracy(\n",
    "\t\t\t\tvalid_prediction.eval(), valid_labels))\n",
    "\tprint(\"Test accuracy: %.1f%%\" % accuracy(test_prediction.eval(), test_labels))"
   ]
  },
  {
   "cell_type": "markdown",
   "metadata": {},
   "source": [
    "Now we got 90% accuracy!"
   ]
  },
  {
   "cell_type": "markdown",
   "metadata": {},
   "source": [
    "## L2 Regularizaton for the logistic model. "
   ]
  },
  {
   "cell_type": "code",
   "execution_count": 20,
   "metadata": {
    "collapsed": false
   },
   "outputs": [],
   "source": [
    "train_subset = 10000\n",
    "\n",
    "graph = tf.Graph()\n",
    "with graph.as_default():\n",
    "  tf_train_dataset = tf.constant(train_dataset[:train_subset, :])\n",
    "  tf_train_labels = tf.constant(train_labels[:train_subset])\n",
    "  tf_valid_dataset = tf.constant(valid_dataset)\n",
    "  tf_test_dataset = tf.constant(test_dataset)\n",
    "  \n",
    "  weights = tf.Variable(\n",
    "    tf.truncated_normal([image_size * image_size, num_labels]))\n",
    "  biases = tf.Variable(tf.zeros([num_labels]))\n",
    "  \n",
    "  logits = tf.matmul(tf_train_dataset, weights) + biases\n",
    "\n",
    "  betta = 0.01\n",
    "  loss = tf.reduce_mean(\n",
    "    tf.nn.softmax_cross_entropy_with_logits(labels=tf_train_labels, logits=logits) + betta *(tf.nn.l2_loss(weights) + tf.nn.l2_loss(biases)))\n",
    "\n",
    "  optimizer = tf.train.GradientDescentOptimizer(0.5).minimize(loss)\n",
    "  \n",
    "  train_prediction = tf.nn.softmax(logits)\n",
    "  valid_prediction = tf.nn.softmax(\n",
    "    tf.matmul(tf_valid_dataset, weights) + biases)\n",
    "  test_prediction = tf.nn.softmax(tf.matmul(tf_test_dataset, weights) + biases)"
   ]
  },
  {
   "cell_type": "code",
   "execution_count": 21,
   "metadata": {
    "collapsed": false
   },
   "outputs": [
    {
     "name": "stdout",
     "output_type": "stream",
     "text": [
      "Initialized\n",
      "Loss at step 0: 49.150452\n",
      "Training accuracy: 7.7%\n",
      "Validation accuracy: 9.3%\n",
      "Loss at step 100: 11.701612\n",
      "Training accuracy: 74.1%\n",
      "Validation accuracy: 72.1%\n",
      "Loss at step 200: 4.448113\n",
      "Training accuracy: 79.5%\n",
      "Validation accuracy: 76.5%\n",
      "Loss at step 300: 1.971733\n",
      "Training accuracy: 82.7%\n",
      "Validation accuracy: 79.2%\n",
      "Loss at step 400: 1.128544\n",
      "Training accuracy: 84.1%\n",
      "Validation accuracy: 80.9%\n",
      "Loss at step 500: 0.838712\n",
      "Training accuracy: 84.7%\n",
      "Validation accuracy: 81.4%\n",
      "Loss at step 600: 0.737998\n",
      "Training accuracy: 84.9%\n",
      "Validation accuracy: 81.8%\n",
      "Loss at step 700: 0.702705\n",
      "Training accuracy: 84.8%\n",
      "Validation accuracy: 82.0%\n",
      "Loss at step 800: 0.690261\n",
      "Training accuracy: 84.8%\n",
      "Validation accuracy: 82.0%\n",
      "Test accuracy: 88.8%\n"
     ]
    }
   ],
   "source": [
    "num_steps = 801\n",
    "\n",
    "with tf.Session(graph=graph) as session:\n",
    "  tf.initialize_all_variables().run()\n",
    "  print('Initialized')\n",
    "  for step in range(num_steps):\n",
    "    _, l, predictions = session.run([optimizer, loss, train_prediction])\n",
    "    if (step % 100 == 0):\n",
    "      print('Loss at step %d: %f' % (step, l))\n",
    "      print('Training accuracy: %.1f%%' % accuracy(\n",
    "        predictions, train_labels[:train_subset, :]))\n",
    "      print('Validation accuracy: %.1f%%' % accuracy(\n",
    "        valid_prediction.eval(), valid_labels))\n",
    "  print('Test accuracy: %.1f%%' % accuracy(test_prediction.eval(), test_labels))"
   ]
  },
  {
   "cell_type": "markdown",
   "metadata": {},
   "source": [
    "Logistic model with batch gradient descent without regularisation gives us 82.5% test accuracy. Using regularisaton with some values of betta, we got the best result 88.7% using betta = 0.01.\n",
    "\n",
    "Now let's try to use regularisation for logistic model with stochastic gradient descent. "
   ]
  },
  {
   "cell_type": "code",
   "execution_count": 22,
   "metadata": {
    "collapsed": true
   },
   "outputs": [],
   "source": [
    "batch_size = 128\n",
    "\n",
    "graph = tf.Graph()\n",
    "with graph.as_default():\n",
    "  tf_train_dataset = tf.placeholder(tf.float32,\n",
    "                                    shape=(batch_size, image_size * image_size))\n",
    "  tf_train_labels = tf.placeholder(tf.float32, shape=(batch_size, num_labels))\n",
    "  tf_valid_dataset = tf.constant(valid_dataset)\n",
    "  tf_test_dataset = tf.constant(test_dataset)\n",
    "  \n",
    "  weights = tf.Variable(\n",
    "    tf.truncated_normal([image_size * image_size, num_labels]))\n",
    "  biases = tf.Variable(tf.zeros([num_labels]))\n",
    "  \n",
    "  logits = tf.matmul(tf_train_dataset, weights) + biases\n",
    "\n",
    "  betta = 0.01\n",
    "  loss = tf.reduce_mean(\n",
    "    tf.nn.softmax_cross_entropy_with_logits(labels=tf_train_labels, logits=logits) + betta *(tf.nn.l2_loss(weights) + tf.nn.l2_loss(biases)))\n",
    "  \n",
    "  optimizer = tf.train.GradientDescentOptimizer(0.5).minimize(loss)\n",
    "  \n",
    "  train_prediction = tf.nn.softmax(logits)\n",
    "  valid_prediction = tf.nn.softmax(\n",
    "    tf.matmul(tf_valid_dataset, weights) + biases)\n",
    "  test_prediction = tf.nn.softmax(tf.matmul(tf_test_dataset, weights) + biases)"
   ]
  },
  {
   "cell_type": "code",
   "execution_count": 23,
   "metadata": {
    "collapsed": false
   },
   "outputs": [
    {
     "name": "stdout",
     "output_type": "stream",
     "text": [
      "Initialized\n",
      "Minibatch loss at step 0: 48.220215\n",
      "Minibatch accuracy: 6.2%\n",
      "Validation accuracy: 9.8%\n",
      "Minibatch loss at step 500: 0.749279\n",
      "Minibatch accuracy: 89.8%\n",
      "Validation accuracy: 81.4%\n",
      "Minibatch loss at step 1000: 0.790895\n",
      "Minibatch accuracy: 78.9%\n",
      "Validation accuracy: 81.1%\n",
      "Minibatch loss at step 1500: 0.587876\n",
      "Minibatch accuracy: 83.6%\n",
      "Validation accuracy: 81.1%\n",
      "Minibatch loss at step 2000: 0.687259\n",
      "Minibatch accuracy: 87.5%\n",
      "Validation accuracy: 80.7%\n",
      "Minibatch loss at step 2500: 0.723446\n",
      "Minibatch accuracy: 80.5%\n",
      "Validation accuracy: 80.5%\n",
      "Minibatch loss at step 3000: 0.866150\n",
      "Minibatch accuracy: 77.3%\n",
      "Validation accuracy: 81.6%\n",
      "Test accuracy: 88.5%\n"
     ]
    }
   ],
   "source": [
    "num_steps = 3001\n",
    "\n",
    "with tf.Session(graph=graph) as session:\n",
    "  tf.initialize_all_variables().run()\n",
    "  print(\"Initialized\")\n",
    "  for step in range(num_steps):\n",
    "    offset = (step * batch_size) % (train_labels.shape[0] - batch_size)\n",
    "    batch_data = train_dataset[offset:(offset + batch_size), :]\n",
    "    batch_labels = train_labels[offset:(offset + batch_size), :]\n",
    "    feed_dict = {tf_train_dataset : batch_data, tf_train_labels : batch_labels}\n",
    "    _, l, predictions = session.run(\n",
    "      [optimizer, loss, train_prediction], feed_dict=feed_dict)\n",
    "    if (step % 500 == 0):\n",
    "      print(\"Minibatch loss at step %d: %f\" % (step, l))\n",
    "      print(\"Minibatch accuracy: %.1f%%\" % accuracy(predictions, batch_labels))\n",
    "      print(\"Validation accuracy: %.1f%%\" % accuracy(\n",
    "        valid_prediction.eval(), valid_labels))\n",
    "  print(\"Test accuracy: %.1f%%\" % accuracy(test_prediction.eval(), test_labels))"
   ]
  },
  {
   "cell_type": "markdown",
   "metadata": {},
   "source": [
    "Logistic model with stochastic gradient descent without regularisation gives us 89.8% test accuracy. Using regularisaton with betta = 0.01 we got 88.5%. Thus, we did not improve the result.\n",
    "\n",
    "## L2 Regularistaion for neural network model."
   ]
  },
  {
   "cell_type": "code",
   "execution_count": 31,
   "metadata": {
    "collapsed": false
   },
   "outputs": [],
   "source": [
    "batch_size = 128\n",
    "\n",
    "graph = tf.Graph()\n",
    "with graph.as_default():\n",
    "    tf_train_dataset = tf.placeholder(tf.float32, shape=(batch_size, image_size * image_size))\n",
    "    tf_train_labels = tf.placeholder(tf.float32, shape=(batch_size, num_labels))\n",
    "    tf_valid_dataset = tf.constant(valid_dataset)\n",
    "    tf_test_dataset = tf.constant(test_dataset)\n",
    "\n",
    "    num_hidden_nodes = 1554\n",
    "    weights1 = tf.Variable(tf.truncated_normal([image_size * image_size, num_hidden_nodes]))\n",
    "    weights2 = tf.Variable(\n",
    "        tf.truncated_normal([num_hidden_nodes, num_labels]))\n",
    "    biases1 = tf.Variable(tf.zeros([num_hidden_nodes]))\n",
    "    biases2 = tf.Variable(tf.zeros([num_labels]))\n",
    "\n",
    "    layer_1 = tf.nn.relu(tf.matmul(tf_train_dataset,weights1)+biases1)\n",
    "    logits = tf.matmul(layer_1, weights2) + biases2\n",
    "    \n",
    "    betta = 0.01\n",
    "    loss = tf.reduce_mean(\n",
    "    tf.nn.softmax_cross_entropy_with_logits(labels=tf_train_labels, \n",
    "        logits=logits) + betta *(tf.nn.l2_loss(weights1) + tf.nn.l2_loss(biases1) + tf.nn.l2_loss(weights2)\n",
    "                                 + tf.nn.l2_loss(biases2)))\n",
    "\n",
    "    optimizer = tf.train.GradientDescentOptimizer(0.5).minimize(loss)\n",
    "\n",
    "    train_prediction = tf.nn.softmax(logits)\n",
    "    valid_prediction = tf.nn.softmax(tf.matmul(tf.nn.relu(tf.matmul(tf_valid_dataset, weights1)+biases1),weights2) + biases2)\n",
    "    test_prediction = tf.nn.softmax(tf.matmul(tf.nn.relu(tf.matmul(tf_test_dataset, weights1)+biases1),weights2) + biases2)"
   ]
  },
  {
   "cell_type": "code",
   "execution_count": 32,
   "metadata": {
    "collapsed": false
   },
   "outputs": [
    {
     "name": "stdout",
     "output_type": "stream",
     "text": [
      "Two layers netowrk, Initialized\n",
      "Minibatch loss at step 0: 5202.969727\n",
      "Minibatch accuracy: 5.5%\n",
      "Validation accuracy: 26.5%\n",
      "Minibatch loss at step 500: 31.863476\n",
      "Minibatch accuracy: 89.1%\n",
      "Validation accuracy: 84.8%\n",
      "Minibatch loss at step 1000: 1.006653\n",
      "Minibatch accuracy: 82.8%\n",
      "Validation accuracy: 83.0%\n",
      "Minibatch loss at step 1500: 0.601501\n",
      "Minibatch accuracy: 85.2%\n",
      "Validation accuracy: 83.3%\n",
      "Minibatch loss at step 2000: 0.621488\n",
      "Minibatch accuracy: 89.1%\n",
      "Validation accuracy: 83.0%\n",
      "Minibatch loss at step 2500: 0.663468\n",
      "Minibatch accuracy: 84.4%\n",
      "Validation accuracy: 82.9%\n",
      "Minibatch loss at step 3000: 0.832558\n",
      "Minibatch accuracy: 81.2%\n",
      "Validation accuracy: 83.5%\n",
      "Test accuracy: 90.3%\n"
     ]
    }
   ],
   "source": [
    "num_steps = 3001\n",
    "\n",
    "with tf.Session(graph=graph) as session:\n",
    "\ttf.initialize_all_variables().run()\n",
    "\tprint(\"Two layers netowrk, Initialized\")\n",
    "\tfor step in range(num_steps):\n",
    "\t\toffset = (step * batch_size) % (train_labels.shape[0] - batch_size)\n",
    "\t\tbatch_data = train_dataset[offset:(offset + batch_size), :]\n",
    "\t\tbatch_labels = train_labels[offset:(offset + batch_size), :]\n",
    "\t\tfeed_dict = {tf_train_dataset : batch_data, tf_train_labels : batch_labels}\n",
    "\t\t_, l, predictions = session.run(\n",
    "\t\t\t[optimizer, loss, train_prediction], feed_dict=feed_dict)\n",
    "\t\tif (step % 500 == 0):\n",
    "\t\t\tprint(\"Minibatch loss at step %d: %f\" % (step, l))\n",
    "\t\t\tprint(\"Minibatch accuracy: %.1f%%\" % accuracy(predictions, batch_labels))\n",
    "\t\t\tprint(\"Validation accuracy: %.1f%%\" % accuracy(\n",
    "\t\t\t\tvalid_prediction.eval(), valid_labels))\n",
    "\tprint(\"Test accuracy: %.1f%%\" % accuracy(test_prediction.eval(), test_labels))"
   ]
  },
  {
   "cell_type": "markdown",
   "metadata": {},
   "source": [
    "We've improve the result by 0.5 % (we had accuracy 89.7% without regularisation)"
   ]
  },
  {
   "cell_type": "code",
   "execution_count": null,
   "metadata": {
    "collapsed": true
   },
   "outputs": [],
   "source": []
  }
 ],
 "metadata": {
  "anaconda-cloud": {},
  "kernelspec": {
   "display_name": "Python [conda env:tensorflow]",
   "language": "python",
   "name": "conda-env-tensorflow-py"
  },
  "language_info": {
   "codemirror_mode": {
    "name": "ipython",
    "version": 3
   },
   "file_extension": ".py",
   "mimetype": "text/x-python",
   "name": "python",
   "nbconvert_exporter": "python",
   "pygments_lexer": "ipython3",
   "version": "3.5.2"
  }
 },
 "nbformat": 4,
 "nbformat_minor": 1
}
